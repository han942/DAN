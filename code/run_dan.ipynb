{
 "cells": [
  {
   "cell_type": "code",
   "execution_count": 1,
   "id": "5c6c8d95",
   "metadata": {},
   "outputs": [
    {
     "name": "stdout",
     "output_type": "stream",
     "text": [
      ">>SEED: 2020\n",
      "\u001b[0;30;43mloading [../data/yelp2018]\u001b[0m\n",
      "25668 training users, 3000 valid users, 3000 test users, 38048 items\n",
      "1265341 interactions for training\n",
      "28311 interactions for validation\n",
      "28675 interactions for testing\n",
      "yelp2018 is ready to go\n",
      "===========config================\n",
      "{'alpha': 0.0,\n",
      " 'beta': 0.0,\n",
      " 'diag_const': True,\n",
      " 'drop_p': 0,\n",
      " 'reg_p': 100,\n",
      " 'relax': True,\n",
      " 'test_u_batch_size': 4096,\n",
      " 'xi': 0.0}\n",
      "cores for test: 6\n",
      "Test Topks: [20, 100]\n",
      "===========end===================\n",
      "Current model: EASE\n"
     ]
    },
    {
     "name": "stderr",
     "output_type": "stream",
     "text": [
      "c:\\Users\\한승원\\.vscode\\DAN\\DAN\\code\\model.py:48: RuntimeWarning: invalid value encountered in divide\n",
      "  self.W = P / (-np.diag(P))\n"
     ]
    },
    {
     "name": "stdout",
     "output_type": "stream",
     "text": [
      "costing 54.831106424331665s for training\n",
      "Inference time: 46.4308s\n",
      "Training time: 55, Valid NDCG@100: 0.0029\n",
      "{'precision': array([0.00043333, 0.00056667]), 'recall': array([0.00118563, 0.00716741]), 'ndcg': array([0.0008686 , 0.00283195]), 'precision(head)': array([0.00037957, 0.00053485]), 'recall(head)': array([0.00209226, 0.01179784]), 'ndcg(head)': array([0.00120156, 0.00383315]), 'precision(tail)': array([7.41839763e-05, 5.56379822e-05]), 'recall(tail)': array([0.00018827, 0.00072841]), 'ndcg(tail)': array([0.0001596 , 0.00031727]), 'uprecision': array([0.0002645 , 0.00028683]), 'urecall': array([0.00068382, 0.00435088]), 'undcg': array([7.55102365e-05, 2.69189993e-04])}\n"
     ]
    },
    {
     "data": {
      "text/plain": [
       "{'precision': array([0.00043333, 0.00056667]),\n",
       " 'recall': array([0.00118563, 0.00716741]),\n",
       " 'ndcg': array([0.0008686 , 0.00283195]),\n",
       " 'precision(head)': array([0.00037957, 0.00053485]),\n",
       " 'recall(head)': array([0.00209226, 0.01179784]),\n",
       " 'ndcg(head)': array([0.00120156, 0.00383315]),\n",
       " 'precision(tail)': array([7.41839763e-05, 5.56379822e-05]),\n",
       " 'recall(tail)': array([0.00018827, 0.00072841]),\n",
       " 'ndcg(tail)': array([0.0001596 , 0.00031727]),\n",
       " 'uprecision': array([0.0002645 , 0.00028683]),\n",
       " 'urecall': array([0.00068382, 0.00435088]),\n",
       " 'undcg': array([7.55102365e-05, 2.69189993e-04])}"
      ]
     },
     "execution_count": 1,
     "metadata": {},
     "output_type": "execute_result"
    }
   ],
   "source": [
    "import world\n",
    "import utils\n",
    "\n",
    "import Procedure\n",
    "# ==============================\n",
    "utils.set_seed(world.seed)\n",
    "print(\">>SEED:\", world.seed)\n",
    "# ==============================\n",
    "import register\n",
    "from register import dataset\n",
    "import numpy as np\n",
    "\n",
    "\n",
    "print(f\"Current model: {world.model_name}\")\n",
    "item_freq = np.array(dataset.UserItemNet.sum(axis=0)).squeeze()\n",
    "world.pscore = np.maximum((item_freq / item_freq.max()) ** 0.5, 10e-3)\n",
    "\n",
    "Recmodel = register.MODELS[world.model_name](world.config, dataset)\n",
    "Recmodel = Recmodel.to(world.device)\n",
    "\n",
    "# init tensorboard\n",
    "Procedure.Test(dataset, Recmodel)\n"
   ]
  }
 ],
 "metadata": {
  "kernelspec": {
   "display_name": "dan_env",
   "language": "python",
   "name": "python3"
  },
  "language_info": {
   "codemirror_mode": {
    "name": "ipython",
    "version": 3
   },
   "file_extension": ".py",
   "mimetype": "text/x-python",
   "name": "python",
   "nbconvert_exporter": "python",
   "pygments_lexer": "ipython3",
   "version": "3.9.23"
  }
 },
 "nbformat": 4,
 "nbformat_minor": 5
}
