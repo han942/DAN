{
 "cells": [
  {
   "cell_type": "code",
   "execution_count": 1,
   "id": "5c6c8d95",
   "metadata": {},
   "outputs": [
    {
     "name": "stdout",
     "output_type": "stream",
     "text": [
      ">>SEED: 2020\n",
      "\u001b[0;30;43mloading [../data/yelp2018]\u001b[0m\n",
      "25668 training users, 3000 valid users, 3000 test users, 38048 items\n",
      "1265341 interactions for training\n",
      "28311 interactions for validation\n",
      "28675 interactions for testing\n",
      "yelp2018 is ready to go\n",
      "===========config================\n",
      "{'alpha': 0.0,\n",
      " 'beta': 0.0,\n",
      " 'diag_const': True,\n",
      " 'drop_p': 0,\n",
      " 'reg_p': 100,\n",
      " 'relax': True,\n",
      " 'test_u_batch_size': 4096,\n",
      " 'xi': 0.0}\n",
      "cores for test: 7\n",
      "Test Topks: [20, 100]\n",
      "===========end===================\n",
      "Current model: EASE\n"
     ]
    },
    {
     "ename": "MemoryError",
     "evalue": "Unable to allocate 10.8 GiB for an array with shape (38048, 38048) and data type float64",
     "output_type": "error",
     "traceback": [
      "\u001b[1;31m---------------------------------------------------------------------------\u001b[0m",
      "\u001b[1;31mMemoryError\u001b[0m                               Traceback (most recent call last)",
      "Cell \u001b[1;32mIn[1], line 18\u001b[0m\n\u001b[0;32m     15\u001b[0m item_freq \u001b[38;5;241m=\u001b[39m np\u001b[38;5;241m.\u001b[39marray(dataset\u001b[38;5;241m.\u001b[39mUserItemNet\u001b[38;5;241m.\u001b[39msum(axis\u001b[38;5;241m=\u001b[39m\u001b[38;5;241m0\u001b[39m))\u001b[38;5;241m.\u001b[39msqueeze()\n\u001b[0;32m     16\u001b[0m world\u001b[38;5;241m.\u001b[39mpscore \u001b[38;5;241m=\u001b[39m np\u001b[38;5;241m.\u001b[39mmaximum((item_freq \u001b[38;5;241m/\u001b[39m item_freq\u001b[38;5;241m.\u001b[39mmax()) \u001b[38;5;241m*\u001b[39m\u001b[38;5;241m*\u001b[39m \u001b[38;5;241m0.5\u001b[39m, \u001b[38;5;241m10e-3\u001b[39m)\n\u001b[1;32m---> 18\u001b[0m Recmodel \u001b[38;5;241m=\u001b[39m \u001b[43mregister\u001b[49m\u001b[38;5;241;43m.\u001b[39;49m\u001b[43mMODELS\u001b[49m\u001b[43m[\u001b[49m\u001b[43mworld\u001b[49m\u001b[38;5;241;43m.\u001b[39;49m\u001b[43mmodel_name\u001b[49m\u001b[43m]\u001b[49m\u001b[43m(\u001b[49m\u001b[43mworld\u001b[49m\u001b[38;5;241;43m.\u001b[39;49m\u001b[43mconfig\u001b[49m\u001b[43m,\u001b[49m\u001b[43m \u001b[49m\u001b[43mdataset\u001b[49m\u001b[43m)\u001b[49m\n\u001b[0;32m     19\u001b[0m Recmodel \u001b[38;5;241m=\u001b[39m Recmodel\u001b[38;5;241m.\u001b[39mto(world\u001b[38;5;241m.\u001b[39mdevice)\n\u001b[0;32m     21\u001b[0m \u001b[38;5;66;03m# init tensorboard\u001b[39;00m\n",
      "File \u001b[1;32mc:\\Users\\hanan\\.vscode\\DS\\vscode\\DAN\\code\\model.py:34\u001b[0m, in \u001b[0;36mEASE.__init__\u001b[1;34m(self, config, dataset)\u001b[0m\n\u001b[0;32m     31\u001b[0m \u001b[38;5;28mself\u001b[39m\u001b[38;5;241m.\u001b[39mreg_p \u001b[38;5;241m=\u001b[39m config[\u001b[38;5;124m'\u001b[39m\u001b[38;5;124mreg_p\u001b[39m\u001b[38;5;124m'\u001b[39m]\n\u001b[0;32m     32\u001b[0m \u001b[38;5;28mself\u001b[39m\u001b[38;5;241m.\u001b[39mdiag_const \u001b[38;5;241m=\u001b[39m config[\u001b[38;5;124m'\u001b[39m\u001b[38;5;124mdiag_const\u001b[39m\u001b[38;5;124m'\u001b[39m]\n\u001b[1;32m---> 34\u001b[0m \u001b[38;5;28;43mself\u001b[39;49m\u001b[38;5;241;43m.\u001b[39;49m\u001b[43m__init_weight\u001b[49m\u001b[43m(\u001b[49m\u001b[43m)\u001b[49m\n",
      "File \u001b[1;32mc:\\Users\\hanan\\.vscode\\DS\\vscode\\DAN\\code\\model.py:48\u001b[0m, in \u001b[0;36mEASE.__init_weight\u001b[1;34m(self)\u001b[0m\n\u001b[0;32m     45\u001b[0m P \u001b[38;5;241m=\u001b[39m np\u001b[38;5;241m.\u001b[39mlinalg\u001b[38;5;241m.\u001b[39minv(G)\n\u001b[0;32m     47\u001b[0m \u001b[38;5;28;01mif\u001b[39;00m \u001b[38;5;28mself\u001b[39m\u001b[38;5;241m.\u001b[39mdiag_const:\n\u001b[1;32m---> 48\u001b[0m     \u001b[38;5;28mself\u001b[39m\u001b[38;5;241m.\u001b[39mW \u001b[38;5;241m=\u001b[39m \u001b[43mP\u001b[49m\u001b[43m \u001b[49m\u001b[38;5;241;43m/\u001b[39;49m\u001b[43m \u001b[49m\u001b[43m(\u001b[49m\u001b[38;5;241;43m-\u001b[39;49m\u001b[43mnp\u001b[49m\u001b[38;5;241;43m.\u001b[39;49m\u001b[43mdiag\u001b[49m\u001b[43m(\u001b[49m\u001b[43mP\u001b[49m\u001b[43m)\u001b[49m\u001b[43m)\u001b[49m\n\u001b[0;32m     49\u001b[0m \u001b[38;5;28;01melse\u001b[39;00m:\n\u001b[0;32m     50\u001b[0m     \u001b[38;5;28mself\u001b[39m\u001b[38;5;241m.\u001b[39mW \u001b[38;5;241m=\u001b[39m P \u001b[38;5;241m*\u001b[39m \u001b[38;5;241m-\u001b[39m\u001b[38;5;28mself\u001b[39m\u001b[38;5;241m.\u001b[39mreg_p\n",
      "\u001b[1;31mMemoryError\u001b[0m: Unable to allocate 10.8 GiB for an array with shape (38048, 38048) and data type float64"
     ]
    }
   ],
   "source": [
    "import world\n",
    "import utils\n",
    "\n",
    "import Procedure\n",
    "# ==============================\n",
    "utils.set_seed(world.seed)\n",
    "print(\">>SEED:\", world.seed)\n",
    "# ==============================\n",
    "import register\n",
    "from register import dataset\n",
    "import numpy as np\n",
    "\n",
    "\n",
    "print(f\"Current model: {world.model_name}\")\n",
    "item_freq = np.array(dataset.UserItemNet.sum(axis=0)).squeeze()\n",
    "world.pscore = np.maximum((item_freq / item_freq.max()) ** 0.5, 10e-3)\n",
    "\n",
    "Recmodel = register.MODELS[world.model_name](world.config, dataset)\n",
    "Recmodel = Recmodel.to(world.device)\n",
    "\n",
    "# init tensorboard\n",
    "Procedure.Test(dataset, Recmodel)\n"
   ]
  }
 ],
 "metadata": {
  "kernelspec": {
   "display_name": "dan_env",
   "language": "python",
   "name": "python3"
  },
  "language_info": {
   "codemirror_mode": {
    "name": "ipython",
    "version": 3
   },
   "file_extension": ".py",
   "mimetype": "text/x-python",
   "name": "python",
   "nbconvert_exporter": "python",
   "pygments_lexer": "ipython3",
   "version": "3.9.23"
  }
 },
 "nbformat": 4,
 "nbformat_minor": 5
}
